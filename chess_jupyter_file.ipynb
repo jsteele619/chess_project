{
 "cells": [
  {
   "cell_type": "code",
   "execution_count": 1,
   "metadata": {},
   "outputs": [],
   "source": [
    "\n",
    "import json\n",
    "import os\n",
    "import requests\n",
    "import sqlalchemy\n",
    "from sqlalchemy import create_engine\n",
    "from config import login\n",
    "import re\n",
    "from datetime import datetime \n",
    "from datetime import time\n",
    "from pytz import timezone\n",
    "from pprint import pprint\n",
    "import pytz\n",
    "import pandas as pd"
   ]
  },
  {
   "cell_type": "code",
   "execution_count": 2,
   "metadata": {},
   "outputs": [
    {
     "name": "stdout",
     "output_type": "stream",
     "text": [
      "Stored 'name' (str)\n"
     ]
    }
   ],
   "source": [
    "url = \"https://api.chess.com/pub/player/\"\n",
    "name = input()\n",
    "%store name"
   ]
  },
  {
   "cell_type": "code",
   "execution_count": 3,
   "metadata": {},
   "outputs": [],
   "source": [
    "query = f\"{url}{name}/games/archives\"\n",
    "for queries in query:\n",
    "    archives = requests.get(query).json()"
   ]
  },
  {
   "cell_type": "code",
   "execution_count": 8,
   "metadata": {},
   "outputs": [
    {
     "name": "stdout",
     "output_type": "stream",
     "text": [
      "https://api.chess.com/pub/player/jsteele619/games/2012/09\n"
     ]
    }
   ],
   "source": [
    "print(archives['archives'][2])"
   ]
  },
  {
   "cell_type": "code",
   "execution_count": 10,
   "metadata": {},
   "outputs": [],
   "source": [
    "\n",
    "monthly_games = requests.get(archives['archives'][2]).json()"
   ]
  },
  {
   "cell_type": "code",
   "execution_count": 22,
   "metadata": {},
   "outputs": [
    {
     "name": "stdout",
     "output_type": "stream",
     "text": [
      "{'black': {'@id': 'https://api.chess.com/pub/player/jsteele619',\n",
      "           'rating': 1010,\n",
      "           'result': 'win',\n",
      "           'username': 'jsteele619',\n",
      "           'uuid': 'e8c03108-d43d-11e1-8058-000000000000'},\n",
      " 'end_time': 1346791195,\n",
      " 'fen': 'r6k/p1p3pp/8/2P1R3/3P4/3N1r1q/PB3P1K/6R1 w - -',\n",
      " 'initial_setup': 'rnbqkbnr/pppppppp/8/8/8/8/PPPPPPPP/RNBQKBNR w KQkq - 0 1',\n",
      " 'pgn': '[Event \"Live Chess\"]\\n'\n",
      "        '[Site \"Chess.com\"]\\n'\n",
      "        '[Date \"2012.09.04\"]\\n'\n",
      "        '[Round \"-\"]\\n'\n",
      "        '[White \"Erwin555\"]\\n'\n",
      "        '[Black \"jsteele619\"]\\n'\n",
      "        '[Result \"0-1\"]\\n'\n",
      "        '[CurrentPosition \"r6k/p1p3pp/8/2P1R3/3P4/3N1r1q/PB3P1K/6R1 w - -\"]\\n'\n",
      "        '[Timezone \"UTC\"]\\n'\n",
      "        '[ECO \"A00\"]\\n'\n",
      "        '[ECOUrl '\n",
      "        '\"https://www.chess.com/openings/Kings-Fianchetto-Opening-1...e5-2.Bg2-d5\"]\\n'\n",
      "        '[UTCDate \"2012.09.04\"]\\n'\n",
      "        '[UTCTime \"20:25:03\"]\\n'\n",
      "        '[WhiteElo \"1021\"]\\n'\n",
      "        '[BlackElo \"1010\"]\\n'\n",
      "        '[TimeControl \"600\"]\\n'\n",
      "        '[Termination \"jsteele619 won by checkmate\"]\\n'\n",
      "        '[StartTime \"20:25:03\"]\\n'\n",
      "        '[EndDate \"2012.09.04\"]\\n'\n",
      "        '[EndTime \"20:39:55\"]\\n'\n",
      "        '[Link \"https://www.chess.com/game/live/356309161\"]\\n'\n",
      "        '\\n'\n",
      "        '1. g3 {[%clk 0:10:00]} 1... e5 {[%clk 0:10:00]} 2. Bg2 {[%clk '\n",
      "        '0:09:58]} 2... d5 {[%clk 0:09:56.1]} 3. c3 {[%clk 0:09:56]} 3... Nc6 '\n",
      "        '{[%clk 0:09:52.3]} 4. Qa4 {[%clk 0:09:53.4]} 4... Bd7 {[%clk '\n",
      "        '0:09:42.3]} 5. Qb3 {[%clk 0:09:51.2]} 5... d4 {[%clk 0:09:13.8]} 6. '\n",
      "        'Qxb7 {[%clk 0:09:43]} 6... Nf6 {[%clk 0:08:48.6]} 7. Bxc6 {[%clk '\n",
      "        '0:09:38.8]} 7... Bxc6 {[%clk 0:08:35.5]} 8. Qxc6+ {[%clk 0:09:36.7]} '\n",
      "        '8... Nd7 {[%clk 0:08:20.3]} 9. Nh3 {[%clk 0:09:13.3]} 9... Be7 {[%clk '\n",
      "        '0:08:05.6]} 10. Qe4 {[%clk 0:08:51.5]} 10... O-O {[%clk 0:07:49.3]} '\n",
      "        '11. cxd4 {[%clk 0:08:45.7]} 11... exd4 {[%clk 0:07:28.8]} 12. Qxd4 '\n",
      "        '{[%clk 0:08:43.3]} 12... Nc5 {[%clk 0:07:14.2]} 13. Qc3 {[%clk '\n",
      "        '0:07:48.5]} 13... Qd7 {[%clk 0:06:38.1]} 14. b4 {[%clk 0:07:35]} '\n",
      "        '14... Qxh3 {[%clk 0:06:02.8]} 15. bxc5 {[%clk 0:07:29.8]} 15... Qf5 '\n",
      "        '{[%clk 0:05:47.6]} 16. Bb2 {[%clk 0:07:22]} 16... f6 {[%clk '\n",
      "        '0:05:31.5]} 17. Qb3+ {[%clk 0:07:01]} 17... Kh8 {[%clk 0:05:26.4]} '\n",
      "        '18. d4 {[%clk 0:06:52]} 18... Qe4 {[%clk 0:04:49]} 19. O-O {[%clk '\n",
      "        '0:06:44.9]} 19... Qxe2 {[%clk 0:04:40.6]} 20. Qe6 {[%clk 0:06:41.1]} '\n",
      "        '20... Qxe6 {[%clk 0:04:31.4]} 21. Nd2 {[%clk 0:06:40]} 21... f5 '\n",
      "        '{[%clk 0:04:19.4]} 22. Rae1 {[%clk 0:06:38.5]} 22... Qd7 {[%clk '\n",
      "        '0:03:56.7]} 23. Nf3 {[%clk 0:06:33]} 23... f4 {[%clk 0:03:35.2]} 24. '\n",
      "        'Ne5 {[%clk 0:06:22.8]} 24... Qd5 {[%clk 0:03:21.4]} 25. Nd3 {[%clk '\n",
      "        '0:05:39.4]} 25... fxg3 {[%clk 0:02:57.5]} 26. Rxe7 {[%clk 0:05:35.1]} '\n",
      "        '26... gxh2+ {[%clk 0:02:49.7]} 27. Kxh2 {[%clk 0:05:28.5]} 27... Qg5 '\n",
      "        '{[%clk 0:02:15.6]} 28. Re5 {[%clk 0:05:06.9]} 28... Qh4+ {[%clk '\n",
      "        '0:01:41.4]} 29. Kg2 {[%clk 0:05:03.6]} 29... Qg4+ {[%clk 0:00:55.6]} '\n",
      "        '30. Kh2 {[%clk 0:04:59.8]} 30... Rf3 {[%clk 0:00:38.7]} 31. Rg1 '\n",
      "        '{[%clk 0:04:53]} 31... Qh3# {[%clk 0:00:30.9]} 0-1\\n',\n",
      " 'rated': True,\n",
      " 'rules': 'chess',\n",
      " 'tcn': 'ow0KfoZJks5Qdy6ZyrJBrX!ToQZQXQTZgx90QC8!sBKBCBZIBs7ZjzZxzIxLcj1Tsr!?lBLCegCmrSmSblTLaeSZlvLDvKZJKtDwe0wpgpJM0KMFpoFEop9vfgEx',\n",
      " 'time_class': 'blitz',\n",
      " 'time_control': '600',\n",
      " 'url': 'https://www.chess.com/game/live/356309161',\n",
      " 'uuid': 'e1c6e15a-d2af-11dd-8000-000000010001',\n",
      " 'white': {'@id': 'https://api.chess.com/pub/player/erwin555',\n",
      "           'rating': 1021,\n",
      "           'result': 'checkmated',\n",
      "           'username': 'Erwin555',\n",
      "           'uuid': '4b242ed0-976c-11e1-803a-000000000000'}}\n"
     ]
    }
   ],
   "source": [
    "var = monthly_games['games'][2]\n",
    "\n",
    "pprint(var)"
   ]
  }
 ],
 "metadata": {
  "interpreter": {
   "hash": "7812ea015bdcee6f23a998adcdd2ef97c151c0c241b7b7070987d9313e41299d"
  },
  "kernelspec": {
   "display_name": "Python 3.9.5 64-bit",
   "language": "python",
   "name": "python3"
  },
  "language_info": {
   "codemirror_mode": {
    "name": "ipython",
    "version": 3
   },
   "file_extension": ".py",
   "mimetype": "text/x-python",
   "name": "python",
   "nbconvert_exporter": "python",
   "pygments_lexer": "ipython3",
   "version": "3.9.5"
  },
  "orig_nbformat": 4
 },
 "nbformat": 4,
 "nbformat_minor": 2
}
